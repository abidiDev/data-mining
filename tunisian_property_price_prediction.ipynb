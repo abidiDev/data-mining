{
  "cells": [
    {
      "cell_type": "markdown",
      "metadata": {
        "id": "view-in-github",
        "colab_type": "text"
      },
      "source": [
        "<a href=\"https://colab.research.google.com/github/abidiDev/.net/blob/main/tunisian_property_price_prediction.ipynb\" target=\"_parent\"><img src=\"https://colab.research.google.com/assets/colab-badge.svg\" alt=\"Open In Colab\"/></a>"
      ]
    },
    {
      "cell_type": "markdown",
      "metadata": {
        "papermill": {
          "duration": 0.011719,
          "end_time": "2021-03-21T00:13:33.006671",
          "exception": false,
          "start_time": "2021-03-21T00:13:32.994952",
          "status": "completed"
        },
        "tags": [],
        "id": "0hi6vBIxaeB6"
      },
      "source": [
        "<center><h1>HOUSE PRICE PREDICTION</h1></center>\n",
        "\n",
        "<center><img src= \"https://cdn.pixabay.com/photo/2016/11/18/17/46/house-1836070__480.jpg\"></center>"
      ]
    },
    {
      "cell_type": "markdown",
      "metadata": {
        "papermill": {
          "duration": 0.009796,
          "end_time": "2021-03-21T00:13:33.027094",
          "exception": false,
          "start_time": "2021-03-21T00:13:33.017298",
          "status": "completed"
        },
        "tags": [],
        "id": "Nw_1FcmPaeB8"
      },
      "source": [
        "# Getting Started"
      ]
    },
    {
      "cell_type": "code",
      "execution_count": 1,
      "metadata": {
        "execution": {
          "iopub.execute_input": "2021-03-21T00:13:33.055490Z",
          "iopub.status.busy": "2021-03-21T00:13:33.054757Z",
          "iopub.status.idle": "2021-03-21T00:13:34.603229Z",
          "shell.execute_reply": "2021-03-21T00:13:34.602497Z"
        },
        "papermill": {
          "duration": 1.566292,
          "end_time": "2021-03-21T00:13:34.603460",
          "exception": false,
          "start_time": "2021-03-21T00:13:33.037168",
          "status": "completed"
        },
        "tags": [],
        "id": "ln4af1QiaeB8"
      },
      "outputs": [],
      "source": [
        "import numpy as np\n",
        "import pandas as pd\n",
        "import seaborn as sns\n",
        "import matplotlib.pyplot as plt\n",
        "from sklearn import metrics\n",
        "\n",
        "from sklearn.model_selection import train_test_split\n",
        "from sklearn.preprocessing import StandardScaler\n",
        "\n",
        "from sklearn.linear_model import LinearRegression, Ridge, Lasso\n",
        "from sklearn.neighbors import KNeighborsRegressor\n",
        "from sklearn.neural_network import MLPRegressor\n",
        "from sklearn.tree import DecisionTreeRegressor\n",
        "from sklearn.ensemble import RandomForestRegressor, GradientBoostingRegressor\n",
        "\n",
        "import warnings\n",
        "warnings.filterwarnings(action='ignore')"
      ]
    },
    {
      "cell_type": "markdown",
      "source": [
        "\n",
        "\n",
        "```\n",
        "# Ce texte est au format code\n",
        "```\n",
        "\n",
        "# Loading the Dataset\n"
      ],
      "metadata": {
        "id": "DdCWACoDqTze"
      }
    },
    {
      "cell_type": "code",
      "execution_count": null,
      "metadata": {
        "execution": {
          "iopub.execute_input": "2021-03-21T00:13:34.630701Z",
          "iopub.status.busy": "2021-03-21T00:13:34.630044Z",
          "iopub.status.idle": "2021-03-21T00:13:34.699695Z",
          "shell.execute_reply": "2021-03-21T00:13:34.698820Z"
        },
        "papermill": {
          "duration": 0.085661,
          "end_time": "2021-03-21T00:13:34.699844",
          "exception": false,
          "start_time": "2021-03-21T00:13:34.614183",
          "status": "completed"
        },
        "tags": [],
        "id": "FDfmhyygaeB9"
      },
      "outputs": [],
      "source": [
        "data = pd.read_csv('../Property Prices in Tunisia.csv')"
      ]
    },
    {
      "cell_type": "markdown",
      "source": [
        "# Quick Glance at the Dataset\n"
      ],
      "metadata": {
        "id": "rD74bAIWqcQq"
      }
    },
    {
      "cell_type": "code",
      "execution_count": null,
      "metadata": {
        "execution": {
          "iopub.execute_input": "2021-03-21T00:13:34.724332Z",
          "iopub.status.busy": "2021-03-21T00:13:34.723546Z",
          "iopub.status.idle": "2021-03-21T00:13:34.769740Z",
          "shell.execute_reply": "2021-03-21T00:13:34.770239Z"
        },
        "papermill": {
          "duration": 0.060002,
          "end_time": "2021-03-21T00:13:34.770421",
          "exception": false,
          "start_time": "2021-03-21T00:13:34.710419",
          "status": "completed"
        },
        "tags": [],
        "colab": {
          "base_uri": "https://localhost:8080/",
          "height": 423
        },
        "id": "grLX2peEaeB9",
        "outputId": "26ebed94-0b78-4bc9-97df-2bd2dc72f943"
      },
      "outputs": [
        {
          "output_type": "execute_result",
          "data": {
            "text/plain": [
              "                    category  room_count  bathroom_count   size      type  \\\n",
              "0         Terrains et Fermes        -1.0            -1.0   -1.0  À Vendre   \n",
              "1         Terrains et Fermes        -1.0            -1.0   -1.0  À Vendre   \n",
              "2               Appartements         2.0             1.0   80.0   À Louer   \n",
              "3      Locations de vacances         1.0             1.0   90.0   À Louer   \n",
              "4               Appartements         2.0             2.0  113.0  À Vendre   \n",
              "...                      ...         ...             ...    ...       ...   \n",
              "12743     Terrains et Fermes        -1.0            -1.0   -1.0  À Vendre   \n",
              "12744           Appartements         1.0             1.0  100.0   À Louer   \n",
              "12745      Maisons et Villas         3.0             1.0  760.0  À Vendre   \n",
              "12746      Maisons et Villas         3.0             1.0  190.0  À Vendre   \n",
              "12747      Maisons et Villas         2.0             1.0   70.0   À Louer   \n",
              "\n",
              "           price    city         region  log_price  \n",
              "0       100000.0  Ariana         Raoued   5.000000  \n",
              "1       316000.0  Ariana  Autres villes   5.499687  \n",
              "2          380.0  Ariana  Autres villes   2.579784  \n",
              "3           70.0  Ariana  Autres villes   1.845098  \n",
              "4       170000.0  Ariana   Ariana Ville   5.230449  \n",
              "...          ...     ...            ...        ...  \n",
              "12743  3200000.0   Tunis  Sidi Bou Said   6.505150  \n",
              "12744      600.0   Tunis  Autres villes   2.778151  \n",
              "12745  1950000.0   Tunis       La Marsa   6.290035  \n",
              "12746   240000.0   Tunis       La Marsa   5.380211  \n",
              "12747      500.0   Tunis  Sidi Bou Said   2.698970  \n",
              "\n",
              "[12748 rows x 9 columns]"
            ],
            "text/html": [
              "\n",
              "  <div id=\"df-9b0b4baf-5c98-41c0-960a-867fee4456f3\">\n",
              "    <div class=\"colab-df-container\">\n",
              "      <div>\n",
              "<style scoped>\n",
              "    .dataframe tbody tr th:only-of-type {\n",
              "        vertical-align: middle;\n",
              "    }\n",
              "\n",
              "    .dataframe tbody tr th {\n",
              "        vertical-align: top;\n",
              "    }\n",
              "\n",
              "    .dataframe thead th {\n",
              "        text-align: right;\n",
              "    }\n",
              "</style>\n",
              "<table border=\"1\" class=\"dataframe\">\n",
              "  <thead>\n",
              "    <tr style=\"text-align: right;\">\n",
              "      <th></th>\n",
              "      <th>category</th>\n",
              "      <th>room_count</th>\n",
              "      <th>bathroom_count</th>\n",
              "      <th>size</th>\n",
              "      <th>type</th>\n",
              "      <th>price</th>\n",
              "      <th>city</th>\n",
              "      <th>region</th>\n",
              "      <th>log_price</th>\n",
              "    </tr>\n",
              "  </thead>\n",
              "  <tbody>\n",
              "    <tr>\n",
              "      <th>0</th>\n",
              "      <td>Terrains et Fermes</td>\n",
              "      <td>-1.0</td>\n",
              "      <td>-1.0</td>\n",
              "      <td>-1.0</td>\n",
              "      <td>À Vendre</td>\n",
              "      <td>100000.0</td>\n",
              "      <td>Ariana</td>\n",
              "      <td>Raoued</td>\n",
              "      <td>5.000000</td>\n",
              "    </tr>\n",
              "    <tr>\n",
              "      <th>1</th>\n",
              "      <td>Terrains et Fermes</td>\n",
              "      <td>-1.0</td>\n",
              "      <td>-1.0</td>\n",
              "      <td>-1.0</td>\n",
              "      <td>À Vendre</td>\n",
              "      <td>316000.0</td>\n",
              "      <td>Ariana</td>\n",
              "      <td>Autres villes</td>\n",
              "      <td>5.499687</td>\n",
              "    </tr>\n",
              "    <tr>\n",
              "      <th>2</th>\n",
              "      <td>Appartements</td>\n",
              "      <td>2.0</td>\n",
              "      <td>1.0</td>\n",
              "      <td>80.0</td>\n",
              "      <td>À Louer</td>\n",
              "      <td>380.0</td>\n",
              "      <td>Ariana</td>\n",
              "      <td>Autres villes</td>\n",
              "      <td>2.579784</td>\n",
              "    </tr>\n",
              "    <tr>\n",
              "      <th>3</th>\n",
              "      <td>Locations de vacances</td>\n",
              "      <td>1.0</td>\n",
              "      <td>1.0</td>\n",
              "      <td>90.0</td>\n",
              "      <td>À Louer</td>\n",
              "      <td>70.0</td>\n",
              "      <td>Ariana</td>\n",
              "      <td>Autres villes</td>\n",
              "      <td>1.845098</td>\n",
              "    </tr>\n",
              "    <tr>\n",
              "      <th>4</th>\n",
              "      <td>Appartements</td>\n",
              "      <td>2.0</td>\n",
              "      <td>2.0</td>\n",
              "      <td>113.0</td>\n",
              "      <td>À Vendre</td>\n",
              "      <td>170000.0</td>\n",
              "      <td>Ariana</td>\n",
              "      <td>Ariana Ville</td>\n",
              "      <td>5.230449</td>\n",
              "    </tr>\n",
              "    <tr>\n",
              "      <th>...</th>\n",
              "      <td>...</td>\n",
              "      <td>...</td>\n",
              "      <td>...</td>\n",
              "      <td>...</td>\n",
              "      <td>...</td>\n",
              "      <td>...</td>\n",
              "      <td>...</td>\n",
              "      <td>...</td>\n",
              "      <td>...</td>\n",
              "    </tr>\n",
              "    <tr>\n",
              "      <th>12743</th>\n",
              "      <td>Terrains et Fermes</td>\n",
              "      <td>-1.0</td>\n",
              "      <td>-1.0</td>\n",
              "      <td>-1.0</td>\n",
              "      <td>À Vendre</td>\n",
              "      <td>3200000.0</td>\n",
              "      <td>Tunis</td>\n",
              "      <td>Sidi Bou Said</td>\n",
              "      <td>6.505150</td>\n",
              "    </tr>\n",
              "    <tr>\n",
              "      <th>12744</th>\n",
              "      <td>Appartements</td>\n",
              "      <td>1.0</td>\n",
              "      <td>1.0</td>\n",
              "      <td>100.0</td>\n",
              "      <td>À Louer</td>\n",
              "      <td>600.0</td>\n",
              "      <td>Tunis</td>\n",
              "      <td>Autres villes</td>\n",
              "      <td>2.778151</td>\n",
              "    </tr>\n",
              "    <tr>\n",
              "      <th>12745</th>\n",
              "      <td>Maisons et Villas</td>\n",
              "      <td>3.0</td>\n",
              "      <td>1.0</td>\n",
              "      <td>760.0</td>\n",
              "      <td>À Vendre</td>\n",
              "      <td>1950000.0</td>\n",
              "      <td>Tunis</td>\n",
              "      <td>La Marsa</td>\n",
              "      <td>6.290035</td>\n",
              "    </tr>\n",
              "    <tr>\n",
              "      <th>12746</th>\n",
              "      <td>Maisons et Villas</td>\n",
              "      <td>3.0</td>\n",
              "      <td>1.0</td>\n",
              "      <td>190.0</td>\n",
              "      <td>À Vendre</td>\n",
              "      <td>240000.0</td>\n",
              "      <td>Tunis</td>\n",
              "      <td>La Marsa</td>\n",
              "      <td>5.380211</td>\n",
              "    </tr>\n",
              "    <tr>\n",
              "      <th>12747</th>\n",
              "      <td>Maisons et Villas</td>\n",
              "      <td>2.0</td>\n",
              "      <td>1.0</td>\n",
              "      <td>70.0</td>\n",
              "      <td>À Louer</td>\n",
              "      <td>500.0</td>\n",
              "      <td>Tunis</td>\n",
              "      <td>Sidi Bou Said</td>\n",
              "      <td>2.698970</td>\n",
              "    </tr>\n",
              "  </tbody>\n",
              "</table>\n",
              "<p>12748 rows × 9 columns</p>\n",
              "</div>\n",
              "      <button class=\"colab-df-convert\" onclick=\"convertToInteractive('df-9b0b4baf-5c98-41c0-960a-867fee4456f3')\"\n",
              "              title=\"Convert this dataframe to an interactive table.\"\n",
              "              style=\"display:none;\">\n",
              "        \n",
              "  <svg xmlns=\"http://www.w3.org/2000/svg\" height=\"24px\"viewBox=\"0 0 24 24\"\n",
              "       width=\"24px\">\n",
              "    <path d=\"M0 0h24v24H0V0z\" fill=\"none\"/>\n",
              "    <path d=\"M18.56 5.44l.94 2.06.94-2.06 2.06-.94-2.06-.94-.94-2.06-.94 2.06-2.06.94zm-11 1L8.5 8.5l.94-2.06 2.06-.94-2.06-.94L8.5 2.5l-.94 2.06-2.06.94zm10 10l.94 2.06.94-2.06 2.06-.94-2.06-.94-.94-2.06-.94 2.06-2.06.94z\"/><path d=\"M17.41 7.96l-1.37-1.37c-.4-.4-.92-.59-1.43-.59-.52 0-1.04.2-1.43.59L10.3 9.45l-7.72 7.72c-.78.78-.78 2.05 0 2.83L4 21.41c.39.39.9.59 1.41.59.51 0 1.02-.2 1.41-.59l7.78-7.78 2.81-2.81c.8-.78.8-2.07 0-2.86zM5.41 20L4 18.59l7.72-7.72 1.47 1.35L5.41 20z\"/>\n",
              "  </svg>\n",
              "      </button>\n",
              "      \n",
              "  <style>\n",
              "    .colab-df-container {\n",
              "      display:flex;\n",
              "      flex-wrap:wrap;\n",
              "      gap: 12px;\n",
              "    }\n",
              "\n",
              "    .colab-df-convert {\n",
              "      background-color: #E8F0FE;\n",
              "      border: none;\n",
              "      border-radius: 50%;\n",
              "      cursor: pointer;\n",
              "      display: none;\n",
              "      fill: #1967D2;\n",
              "      height: 32px;\n",
              "      padding: 0 0 0 0;\n",
              "      width: 32px;\n",
              "    }\n",
              "\n",
              "    .colab-df-convert:hover {\n",
              "      background-color: #E2EBFA;\n",
              "      box-shadow: 0px 1px 2px rgba(60, 64, 67, 0.3), 0px 1px 3px 1px rgba(60, 64, 67, 0.15);\n",
              "      fill: #174EA6;\n",
              "    }\n",
              "\n",
              "    [theme=dark] .colab-df-convert {\n",
              "      background-color: #3B4455;\n",
              "      fill: #D2E3FC;\n",
              "    }\n",
              "\n",
              "    [theme=dark] .colab-df-convert:hover {\n",
              "      background-color: #434B5C;\n",
              "      box-shadow: 0px 1px 3px 1px rgba(0, 0, 0, 0.15);\n",
              "      filter: drop-shadow(0px 1px 2px rgba(0, 0, 0, 0.3));\n",
              "      fill: #FFFFFF;\n",
              "    }\n",
              "  </style>\n",
              "\n",
              "      <script>\n",
              "        const buttonEl =\n",
              "          document.querySelector('#df-9b0b4baf-5c98-41c0-960a-867fee4456f3 button.colab-df-convert');\n",
              "        buttonEl.style.display =\n",
              "          google.colab.kernel.accessAllowed ? 'block' : 'none';\n",
              "\n",
              "        async function convertToInteractive(key) {\n",
              "          const element = document.querySelector('#df-9b0b4baf-5c98-41c0-960a-867fee4456f3');\n",
              "          const dataTable =\n",
              "            await google.colab.kernel.invokeFunction('convertToInteractive',\n",
              "                                                     [key], {});\n",
              "          if (!dataTable) return;\n",
              "\n",
              "          const docLinkHtml = 'Like what you see? Visit the ' +\n",
              "            '<a target=\"_blank\" href=https://colab.research.google.com/notebooks/data_table.ipynb>data table notebook</a>'\n",
              "            + ' to learn more about interactive tables.';\n",
              "          element.innerHTML = '';\n",
              "          dataTable['output_type'] = 'display_data';\n",
              "          await google.colab.output.renderOutput(dataTable, element);\n",
              "          const docLink = document.createElement('div');\n",
              "          docLink.innerHTML = docLinkHtml;\n",
              "          element.appendChild(docLink);\n",
              "        }\n",
              "      </script>\n",
              "    </div>\n",
              "  </div>\n",
              "  "
            ]
          },
          "metadata": {},
          "execution_count": 34
        }
      ],
      "source": [
        "data"
      ]
    },
    {
      "cell_type": "code",
      "source": [
        "#Statistical description\n",
        "data.describe()"
      ],
      "metadata": {
        "colab": {
          "base_uri": "https://localhost:8080/",
          "height": 300
        },
        "id": "Qu3MPb63lWPv",
        "outputId": "31587091-b36d-4584-e58e-e46d2594ce83"
      },
      "execution_count": null,
      "outputs": [
        {
          "output_type": "execute_result",
          "data": {
            "text/plain": [
              "         room_count  bathroom_count          size         price     log_price\n",
              "count  12748.000000    12748.000000  12748.000000  1.274800e+04  12748.000000\n",
              "mean       1.759649        0.759884    130.896219  1.601575e+07      4.374245\n",
              "std        2.171468        1.264812    184.074990  1.016644e+09      1.389788\n",
              "min       -1.000000       -1.000000     -1.000000  1.000000e+01      1.000000\n",
              "25%       -1.000000       -1.000000     -1.000000  8.500000e+02      2.929419\n",
              "50%        2.000000        1.000000     95.000000  8.975000e+04      4.953033\n",
              "75%        3.000000        1.000000    150.000000  2.600000e+05      5.414973\n",
              "max       20.000000       10.000000   2000.000000  1.000000e+11     11.000000"
            ],
            "text/html": [
              "\n",
              "  <div id=\"df-d9596c32-ad11-4b68-a887-168043409058\">\n",
              "    <div class=\"colab-df-container\">\n",
              "      <div>\n",
              "<style scoped>\n",
              "    .dataframe tbody tr th:only-of-type {\n",
              "        vertical-align: middle;\n",
              "    }\n",
              "\n",
              "    .dataframe tbody tr th {\n",
              "        vertical-align: top;\n",
              "    }\n",
              "\n",
              "    .dataframe thead th {\n",
              "        text-align: right;\n",
              "    }\n",
              "</style>\n",
              "<table border=\"1\" class=\"dataframe\">\n",
              "  <thead>\n",
              "    <tr style=\"text-align: right;\">\n",
              "      <th></th>\n",
              "      <th>room_count</th>\n",
              "      <th>bathroom_count</th>\n",
              "      <th>size</th>\n",
              "      <th>price</th>\n",
              "      <th>log_price</th>\n",
              "    </tr>\n",
              "  </thead>\n",
              "  <tbody>\n",
              "    <tr>\n",
              "      <th>count</th>\n",
              "      <td>12748.000000</td>\n",
              "      <td>12748.000000</td>\n",
              "      <td>12748.000000</td>\n",
              "      <td>1.274800e+04</td>\n",
              "      <td>12748.000000</td>\n",
              "    </tr>\n",
              "    <tr>\n",
              "      <th>mean</th>\n",
              "      <td>1.759649</td>\n",
              "      <td>0.759884</td>\n",
              "      <td>130.896219</td>\n",
              "      <td>1.601575e+07</td>\n",
              "      <td>4.374245</td>\n",
              "    </tr>\n",
              "    <tr>\n",
              "      <th>std</th>\n",
              "      <td>2.171468</td>\n",
              "      <td>1.264812</td>\n",
              "      <td>184.074990</td>\n",
              "      <td>1.016644e+09</td>\n",
              "      <td>1.389788</td>\n",
              "    </tr>\n",
              "    <tr>\n",
              "      <th>min</th>\n",
              "      <td>-1.000000</td>\n",
              "      <td>-1.000000</td>\n",
              "      <td>-1.000000</td>\n",
              "      <td>1.000000e+01</td>\n",
              "      <td>1.000000</td>\n",
              "    </tr>\n",
              "    <tr>\n",
              "      <th>25%</th>\n",
              "      <td>-1.000000</td>\n",
              "      <td>-1.000000</td>\n",
              "      <td>-1.000000</td>\n",
              "      <td>8.500000e+02</td>\n",
              "      <td>2.929419</td>\n",
              "    </tr>\n",
              "    <tr>\n",
              "      <th>50%</th>\n",
              "      <td>2.000000</td>\n",
              "      <td>1.000000</td>\n",
              "      <td>95.000000</td>\n",
              "      <td>8.975000e+04</td>\n",
              "      <td>4.953033</td>\n",
              "    </tr>\n",
              "    <tr>\n",
              "      <th>75%</th>\n",
              "      <td>3.000000</td>\n",
              "      <td>1.000000</td>\n",
              "      <td>150.000000</td>\n",
              "      <td>2.600000e+05</td>\n",
              "      <td>5.414973</td>\n",
              "    </tr>\n",
              "    <tr>\n",
              "      <th>max</th>\n",
              "      <td>20.000000</td>\n",
              "      <td>10.000000</td>\n",
              "      <td>2000.000000</td>\n",
              "      <td>1.000000e+11</td>\n",
              "      <td>11.000000</td>\n",
              "    </tr>\n",
              "  </tbody>\n",
              "</table>\n",
              "</div>\n",
              "      <button class=\"colab-df-convert\" onclick=\"convertToInteractive('df-d9596c32-ad11-4b68-a887-168043409058')\"\n",
              "              title=\"Convert this dataframe to an interactive table.\"\n",
              "              style=\"display:none;\">\n",
              "        \n",
              "  <svg xmlns=\"http://www.w3.org/2000/svg\" height=\"24px\"viewBox=\"0 0 24 24\"\n",
              "       width=\"24px\">\n",
              "    <path d=\"M0 0h24v24H0V0z\" fill=\"none\"/>\n",
              "    <path d=\"M18.56 5.44l.94 2.06.94-2.06 2.06-.94-2.06-.94-.94-2.06-.94 2.06-2.06.94zm-11 1L8.5 8.5l.94-2.06 2.06-.94-2.06-.94L8.5 2.5l-.94 2.06-2.06.94zm10 10l.94 2.06.94-2.06 2.06-.94-2.06-.94-.94-2.06-.94 2.06-2.06.94z\"/><path d=\"M17.41 7.96l-1.37-1.37c-.4-.4-.92-.59-1.43-.59-.52 0-1.04.2-1.43.59L10.3 9.45l-7.72 7.72c-.78.78-.78 2.05 0 2.83L4 21.41c.39.39.9.59 1.41.59.51 0 1.02-.2 1.41-.59l7.78-7.78 2.81-2.81c.8-.78.8-2.07 0-2.86zM5.41 20L4 18.59l7.72-7.72 1.47 1.35L5.41 20z\"/>\n",
              "  </svg>\n",
              "      </button>\n",
              "      \n",
              "  <style>\n",
              "    .colab-df-container {\n",
              "      display:flex;\n",
              "      flex-wrap:wrap;\n",
              "      gap: 12px;\n",
              "    }\n",
              "\n",
              "    .colab-df-convert {\n",
              "      background-color: #E8F0FE;\n",
              "      border: none;\n",
              "      border-radius: 50%;\n",
              "      cursor: pointer;\n",
              "      display: none;\n",
              "      fill: #1967D2;\n",
              "      height: 32px;\n",
              "      padding: 0 0 0 0;\n",
              "      width: 32px;\n",
              "    }\n",
              "\n",
              "    .colab-df-convert:hover {\n",
              "      background-color: #E2EBFA;\n",
              "      box-shadow: 0px 1px 2px rgba(60, 64, 67, 0.3), 0px 1px 3px 1px rgba(60, 64, 67, 0.15);\n",
              "      fill: #174EA6;\n",
              "    }\n",
              "\n",
              "    [theme=dark] .colab-df-convert {\n",
              "      background-color: #3B4455;\n",
              "      fill: #D2E3FC;\n",
              "    }\n",
              "\n",
              "    [theme=dark] .colab-df-convert:hover {\n",
              "      background-color: #434B5C;\n",
              "      box-shadow: 0px 1px 3px 1px rgba(0, 0, 0, 0.15);\n",
              "      filter: drop-shadow(0px 1px 2px rgba(0, 0, 0, 0.3));\n",
              "      fill: #FFFFFF;\n",
              "    }\n",
              "  </style>\n",
              "\n",
              "      <script>\n",
              "        const buttonEl =\n",
              "          document.querySelector('#df-d9596c32-ad11-4b68-a887-168043409058 button.colab-df-convert');\n",
              "        buttonEl.style.display =\n",
              "          google.colab.kernel.accessAllowed ? 'block' : 'none';\n",
              "\n",
              "        async function convertToInteractive(key) {\n",
              "          const element = document.querySelector('#df-d9596c32-ad11-4b68-a887-168043409058');\n",
              "          const dataTable =\n",
              "            await google.colab.kernel.invokeFunction('convertToInteractive',\n",
              "                                                     [key], {});\n",
              "          if (!dataTable) return;\n",
              "\n",
              "          const docLinkHtml = 'Like what you see? Visit the ' +\n",
              "            '<a target=\"_blank\" href=https://colab.research.google.com/notebooks/data_table.ipynb>data table notebook</a>'\n",
              "            + ' to learn more about interactive tables.';\n",
              "          element.innerHTML = '';\n",
              "          dataTable['output_type'] = 'display_data';\n",
              "          await google.colab.output.renderOutput(dataTable, element);\n",
              "          const docLink = document.createElement('div');\n",
              "          docLink.innerHTML = docLinkHtml;\n",
              "          element.appendChild(docLink);\n",
              "        }\n",
              "      </script>\n",
              "    </div>\n",
              "  </div>\n",
              "  "
            ]
          },
          "metadata": {},
          "execution_count": 35
        }
      ]
    },
    {
      "cell_type": "code",
      "source": [
        "#Null Values\n",
        "data.isnull().sum()"
      ],
      "metadata": {
        "colab": {
          "base_uri": "https://localhost:8080/"
        },
        "id": "TDbILf3ClsLt",
        "outputId": "b7f17e63-f45e-4197-f29f-c6187849a1fb"
      },
      "execution_count": null,
      "outputs": [
        {
          "output_type": "execute_result",
          "data": {
            "text/plain": [
              "category          0\n",
              "room_count        0\n",
              "bathroom_count    0\n",
              "size              0\n",
              "type              0\n",
              "price             0\n",
              "city              0\n",
              "region            0\n",
              "log_price         0\n",
              "dtype: int64"
            ]
          },
          "metadata": {},
          "execution_count": 36
        }
      ]
    },
    {
      "cell_type": "markdown",
      "source": [
        "We can see that :\n",
        "The presence of -1 as a value => It is NULL value\n",
        "The number of -1 values is equal in 3 columns\n",
        "The presence of outliers in the data\n",
        "The 'price' varies from 100 to 10e+11, and we can explain it using the fact that our data contains propoerties that are for 'Rent' (À Louer) and for 'Sale' (À Vendre) in the 'type' column\n"
      ],
      "metadata": {
        "id": "3mtFHKjRnJNo"
      }
    },
    {
      "cell_type": "markdown",
      "source": [
        "#Data visualisation"
      ],
      "metadata": {
        "id": "E_YgMKlurF2s"
      }
    },
    {
      "cell_type": "markdown",
      "source": [
        "#variable analysis\n"
      ],
      "metadata": {
        "id": "MBNmbmdbsLtQ"
      }
    },
    {
      "cell_type": "code",
      "execution_count": null,
      "metadata": {
        "execution": {
          "iopub.execute_input": "2022-11-18T19:16:39.105902Z",
          "iopub.status.busy": "2022-11-18T19:16:39.105133Z",
          "iopub.status.idle": "2022-11-18T19:16:39.115272Z",
          "shell.execute_reply": "2022-11-18T19:16:39.114217Z"
        },
        "papermill": {
          "duration": 0.034367,
          "end_time": "2022-11-18T19:16:39.117550",
          "exception": false,
          "start_time": "2022-11-18T19:16:39.083183",
          "status": "completed"
        },
        "tags": [],
        "id": "40bf492e"
      },
      "outputs": [],
      "source": [
        "def plotPerColumnDistribution(data1, nRows, nGraphPerRow):\n",
        "    track = [[0]*nGraphPerRow]*nRows\n",
        "    columnNames = data1.columns\n",
        "        \n",
        "    fig, ax = plt.subplots(nrows=nRows, ncols=nGraphPerRow, figsize=(20,10))\n",
        "       \n",
        "    row, col, i = 0,0,0\n",
        "    while i<(len(columnNames)):\n",
        "        if col<=nGraphPerRow-1:\n",
        "            print(columnNames[i])\n",
        "            valueCounts = data[columnNames[i]].value_counts().sort_index()\n",
        "            valueCounts.plot(kind='bar', ax=ax[row][col])\n",
        "            plt.ylabel('counts')\n",
        "            plt.xticks(rotation = 90)\n",
        "            ax[row][col].set_title(columnNames[i])\n",
        "            col+=1\n",
        "        else:\n",
        "            col=0\n",
        "            row+=1\n",
        "            i-=1\n",
        "        i+=1\n",
        "            \n",
        "    for j in range(col,nGraphPerRow):\n",
        "        fig.delaxes(ax[row][j])\n",
        "    \n",
        "    plt.tight_layout(pad = 1.0, w_pad = 1.0, h_pad = 1.0)\n",
        "    plt.show()"
      ]
    },
    {
      "cell_type": "code",
      "execution_count": null,
      "metadata": {
        "execution": {
          "iopub.execute_input": "2022-11-18T19:16:39.161626Z",
          "iopub.status.busy": "2022-11-18T19:16:39.160952Z",
          "iopub.status.idle": "2022-11-18T19:16:39.168473Z",
          "shell.execute_reply": "2022-11-18T19:16:39.167349Z"
        },
        "papermill": {
          "duration": 0.032032,
          "end_time": "2022-11-18T19:16:39.170799",
          "exception": false,
          "start_time": "2022-11-18T19:16:39.138767",
          "status": "completed"
        },
        "tags": [],
        "colab": {
          "base_uri": "https://localhost:8080/",
          "height": 165
        },
        "id": "962c8592",
        "outputId": "767b39b8-ec6f-419d-8a2c-0eb4af629141"
      },
      "outputs": [
        {
          "output_type": "error",
          "ename": "NameError",
          "evalue": "ignored",
          "traceback": [
            "\u001b[0;31m---------------------------------------------------------------------------\u001b[0m",
            "\u001b[0;31mNameError\u001b[0m                                 Traceback (most recent call last)",
            "\u001b[0;32m<ipython-input-2-c3d483a1c074>\u001b[0m in \u001b[0;36m<cell line: 1>\u001b[0;34m()\u001b[0m\n\u001b[0;32m----> 1\u001b[0;31m \u001b[0mdata\u001b[0m\u001b[0;34m.\u001b[0m\u001b[0mcolumns\u001b[0m\u001b[0;34m\u001b[0m\u001b[0;34m\u001b[0m\u001b[0m\n\u001b[0m",
            "\u001b[0;31mNameError\u001b[0m: name 'data' is not defined"
          ]
        }
      ],
      "source": [
        "data.columns"
      ]
    },
    {
      "cell_type": "code",
      "execution_count": null,
      "metadata": {
        "execution": {
          "iopub.execute_input": "2022-11-18T19:16:39.214344Z",
          "iopub.status.busy": "2022-11-18T19:16:39.213686Z",
          "iopub.status.idle": "2022-11-18T19:16:40.613574Z",
          "shell.execute_reply": "2022-11-18T19:16:40.612379Z"
        },
        "papermill": {
          "duration": 1.42459,
          "end_time": "2022-11-18T19:16:40.615987",
          "exception": false,
          "start_time": "2022-11-18T19:16:39.191397",
          "status": "completed"
        },
        "tags": [],
        "id": "ca570e7d"
      },
      "outputs": [],
      "source": [
        "data1 = data[[\"room_count\", \"bathroom_count\", \"category\",\"type\",\"city\"]]\n",
        "plotPerColumnDistribution(data1,2,3) "
      ]
    },
    {
      "cell_type": "markdown",
      "source": [
        "## Insights:\n",
        "1. __\"room_count\"__: Most of the houses contains 2 room (1.759649\t on average),except few houses having bedrooms less than 0 and the count goes up to 14 room, now this can be treated as outliers, but considering the fact that these can be some kind of luxerious houses let's keep these and see how our model is performing.\n",
        "\n",
        "2. __\"Bathroom\"__: Most of the houses contains 1 room (0.759884\t\t on average),except few houses having bathrooms less than 0 and the count goes up to 5 bathroom, now this can be treated as outliers, but considering the fact that these can be some kind of luxerious houses let's keep these and see how our model is performing.\n",
        "3. __\"category\"__: most present category are appartements, houses and ground , that explain the need of tunisian polulation.\n",
        "    \n",
        "4. __\"type\"__: the majority of people looks for buying instead of renting real Estate .\n",
        "\n",
        "5. __\"city\"__: most of real Estate are located in major cities thanks to the disponibilty of social services and jobs .\n",
        "\n"
      ],
      "metadata": {
        "id": "DstMBvD3ySmS"
      }
    },
    {
      "cell_type": "markdown",
      "source": [
        "# Outlier Analysis"
      ],
      "metadata": {
        "id": "X1nUa0jF5kPU"
      }
    },
    {
      "cell_type": "code",
      "source": [
        "def plotBoxPlot(data1, nRows, nGraphPerRow):\n",
        "    track = [[0]*nGraphPerRow]*nRows\n",
        "    columnNames = data1.columns\n",
        "        \n",
        "    fig, ax = plt.subplots(nrows=nRows, ncols=nGraphPerRow, figsize=(20,10))\n",
        "       \n",
        "    row, col, i = 0,0,0\n",
        "    while i<(len(columnNames)):\n",
        "        if col<=nGraphPerRow-1:\n",
        "            sns.boxplot(data[columnNames[i]],ax=ax[row][col])\n",
        "            col+=1\n",
        "        else:\n",
        "            col=0\n",
        "            row+=1\n",
        "            i-=1\n",
        "        i+=1\n",
        "            \n",
        "    for j in range(col,nGraphPerRow):\n",
        "        fig.delaxes(ax[row][j])\n",
        "    \n",
        "    plt.tight_layout(pad = 1.0, w_pad = 1.0, h_pad = 1.0)\n",
        "    plt.show()"
      ],
      "metadata": {
        "id": "_4SeAQqz5nFL"
      },
      "execution_count": null,
      "outputs": []
    },
    {
      "cell_type": "code",
      "source": [
        "data1 = data[[\"room_count\", \"bathroom_count\", \"price\"]]\n",
        "plotBoxPlot(data1,2,2) "
      ],
      "metadata": {
        "colab": {
          "base_uri": "https://localhost:8080/",
          "height": 552
        },
        "id": "XfVZPIEb7R_Z",
        "outputId": "f888550b-a3e2-4840-dc07-a8f25f6f478e"
      },
      "execution_count": null,
      "outputs": [
        {
          "output_type": "display_data",
          "data": {
            "text/plain": [
              "<Figure size 2000x1000 with 3 Axes>"
            ],
            "image/png": "[encoded data removed]"
          },
          "metadata": {}
        }
      ]
    },
    {
      "cell_type": "markdown",
      "source": [
        "#insights"
      ],
      "metadata": {
        "id": "_DUoZ_7X72o3"
      }
    },
    {
      "cell_type": "markdown",
      "metadata": {
        "papermill": {
          "duration": 0.011445,
          "end_time": "2021-03-21T00:13:34.846772",
          "exception": false,
          "start_time": "2021-03-21T00:13:34.835327",
          "status": "completed"
        },
        "tags": [],
        "id": "RJbN3iDQaeB_"
      },
      "source": [
        "# Preprocessing"
      ]
    },
    {
      "cell_type": "code",
      "execution_count": null,
      "metadata": {
        "execution": {
          "iopub.execute_input": "2021-03-21T00:13:34.882326Z",
          "iopub.status.busy": "2021-03-21T00:13:34.881180Z",
          "iopub.status.idle": "2021-03-21T00:13:34.891666Z",
          "shell.execute_reply": "2021-03-21T00:13:34.892363Z"
        },
        "papermill": {
          "duration": 0.034143,
          "end_time": "2021-03-21T00:13:34.892578",
          "exception": false,
          "start_time": "2021-03-21T00:13:34.858435",
          "status": "completed"
        },
        "tags": [],
        "id": "Tt4x6P4LaeB_"
      },
      "outputs": [],
      "source": [
        "def preprocess_inputs(df):\n",
        "    df = df.copy()\n",
        "    \n",
        "    # Encode missing values properly\n",
        "    df = df.replace(-1, np.NaN)\n",
        "    \n",
        "    # Fill missing values with column medians\n",
        "    for column in ['room_count', 'bathroom_count', 'size']:\n",
        "        df[column] = df[column].fillna(df[column].median())\n",
        "    \n",
        "    # Binary encoding\n",
        "    df['type'] = df['type'].replace({'À Louer': 0, 'À Vendre': 1})\n",
        "    \n",
        "    # One-hot encoding\n",
        "    for column in ['category', 'city', 'region']:\n",
        "        dummies = pd.get_dummies(df[column], prefix=column)\n",
        "        df = pd.concat([df, dummies], axis=1)\n",
        "        df = df.drop(column, axis=1)\n",
        "    \n",
        "    # Drop log_price column\n",
        "    df = df.drop('log_price', axis=1)\n",
        "    \n",
        "    # Split df into X and y\n",
        "    y = df['price']\n",
        "    X = df.drop('price', axis=1)\n",
        "    \n",
        "    # Train-test split\n",
        "    X_train, X_test, y_train, y_test = train_test_split(X, y, train_size=0.7, shuffle=True, random_state=1)\n",
        "    \n",
        "    # Scale X\n",
        "    scaler = StandardScaler()\n",
        "    scaler.fit(X_train)\n",
        "    X_train = pd.DataFrame(scaler.transform(X_train), index=X_train.index, columns=X_train.columns)\n",
        "    X_test = pd.DataFrame(scaler.transform(X_test), index=X_test.index, columns=X_test.columns)\n",
        "    \n",
        "    return X_train, X_test, y_train, y_test"
      ]
    },
    {
      "cell_type": "markdown",
      "source": [
        "**One-hot encoding**: One-hot encoding is a technique used to represent categorical data as binary vectors, where each vector element corresponds to a unique category. This is done by creating a new binary variable for each possible category and setting the value to 1 if the original variable has that category, and 0 otherwise.\n",
        "\n",
        "**Scale X:** Feature scaling is a preprocessing step that standardizes the range of values of the input variables (i.e., the features) so that they have zero mean and unit variance. This can be important for some machine learning algorithms that are sensitive to the scale of the input features. "
      ],
      "metadata": {
        "id": "tMcpltCW8vdt"
      }
    },
    {
      "cell_type": "code",
      "execution_count": null,
      "metadata": {
        "execution": {
          "iopub.execute_input": "2021-03-21T00:13:34.928629Z",
          "iopub.status.busy": "2021-03-21T00:13:34.925686Z",
          "iopub.status.idle": "2021-03-21T00:13:35.133010Z",
          "shell.execute_reply": "2021-03-21T00:13:35.132414Z"
        },
        "papermill": {
          "duration": 0.225762,
          "end_time": "2021-03-21T00:13:35.133173",
          "exception": false,
          "start_time": "2021-03-21T00:13:34.907411",
          "status": "completed"
        },
        "tags": [],
        "id": "4eOy-BXJaeB_"
      },
      "outputs": [],
      "source": [
        "X_train, X_test, y_train, y_test = preprocess_inputs(data)"
      ]
    },
    {
      "cell_type": "code",
      "execution_count": null,
      "metadata": {
        "execution": {
          "iopub.execute_input": "2021-03-21T00:13:35.163824Z",
          "iopub.status.busy": "2021-03-21T00:13:35.163162Z",
          "iopub.status.idle": "2021-03-21T00:13:35.197535Z",
          "shell.execute_reply": "2021-03-21T00:13:35.196953Z"
        },
        "papermill": {
          "duration": 0.052311,
          "end_time": "2021-03-21T00:13:35.197681",
          "exception": false,
          "start_time": "2021-03-21T00:13:35.145370",
          "status": "completed"
        },
        "tags": [],
        "colab": {
          "base_uri": "https://localhost:8080/",
          "height": 522
        },
        "id": "q_wZiWjBaeCA",
        "outputId": "7709e528-ed31-4d75-9b1e-be1909706f49"
      },
      "outputs": [
        {
          "output_type": "execute_result",
          "data": {
            "text/plain": [
              "       room_count  bathroom_count      size      type  category_Appartements  \\\n",
              "83      -0.594847       -0.415569 -0.526100 -1.240965              -0.762766   \n",
              "1917    -0.594847        1.004080 -0.377567 -1.240965              -0.762766   \n",
              "7857     0.122329       -0.415569 -0.139914 -1.240965              -0.762766   \n",
              "5044    -0.594847       -0.415569 -0.377567 -1.240965              -0.762766   \n",
              "2726     0.122329       -0.415569 -0.258740 -1.240965               1.311018   \n",
              "...           ...             ...       ...       ...                    ...   \n",
              "10955   -1.312023       -0.415569 -0.852872  0.805824              -0.762766   \n",
              "905     -1.312023       -0.415569 -0.454804 -1.240965               1.311018   \n",
              "5192    -0.594847       -0.415569 -0.585513 -1.240965              -0.762766   \n",
              "12172    0.122329       -0.415569 -0.377567 -1.240965              -0.762766   \n",
              "235      0.122329        1.004080 -0.229034  0.805824               1.311018   \n",
              "\n",
              "       category_Bureaux et Plateaux  category_Colocations  \\\n",
              "83                        -0.195968             13.321411   \n",
              "1917                      -0.195968             -0.075067   \n",
              "7857                      -0.195968             -0.075067   \n",
              "5044                       5.102881             -0.075067   \n",
              "2726                      -0.195968             -0.075067   \n",
              "...                             ...                   ...   \n",
              "10955                     -0.195968             -0.075067   \n",
              "905                       -0.195968             -0.075067   \n",
              "5192                       5.102881             -0.075067   \n",
              "12172                     -0.195968             -0.075067   \n",
              "235                       -0.195968             -0.075067   \n",
              "\n",
              "       category_Locations de vacances  \\\n",
              "83                           -0.15142   \n",
              "1917                         -0.15142   \n",
              "7857                         -0.15142   \n",
              "5044                         -0.15142   \n",
              "2726                         -0.15142   \n",
              "...                               ...   \n",
              "10955                        -0.15142   \n",
              "905                          -0.15142   \n",
              "5192                         -0.15142   \n",
              "12172                        -0.15142   \n",
              "235                          -0.15142   \n",
              "\n",
              "       category_Magasins, Commerces et Locaux industriels  \\\n",
              "83                                             -0.233407    \n",
              "1917                                           -0.233407    \n",
              "7857                                           -0.233407    \n",
              "5044                                           -0.233407    \n",
              "2726                                           -0.233407    \n",
              "...                                                  ...    \n",
              "10955                                           4.284361    \n",
              "905                                            -0.233407    \n",
              "5192                                           -0.233407    \n",
              "12172                                          -0.233407    \n",
              "235                                            -0.233407    \n",
              "\n",
              "       category_Maisons et Villas  ...  region_Tozeur  region_Tunis  \\\n",
              "83                      -0.575323  ...      -0.055091     -0.113253   \n",
              "1917                     1.738154  ...      -0.055091     -0.113253   \n",
              "7857                     1.738154  ...      -0.055091     -0.113253   \n",
              "5044                    -0.575323  ...      -0.055091     -0.113253   \n",
              "2726                    -0.575323  ...      -0.055091     -0.113253   \n",
              "...                           ...  ...            ...           ...   \n",
              "10955                   -0.575323  ...      -0.055091     -0.113253   \n",
              "905                     -0.575323  ...      -0.055091     -0.113253   \n",
              "5192                    -0.575323  ...      -0.055091     -0.113253   \n",
              "12172                    1.738154  ...      -0.055091     -0.113253   \n",
              "235                     -0.575323  ...      -0.055091     -0.113253   \n",
              "\n",
              "       region_Téboulba  region_Téboursouk  region_Utique  region_Zaghouan  \\\n",
              "83           -0.018339          -0.014973       -0.02594        -0.086323   \n",
              "1917         -0.018339          -0.014973       -0.02594        -0.086323   \n",
              "7857         -0.018339          -0.014973       -0.02594        -0.086323   \n",
              "5044         -0.018339          -0.014973       -0.02594        -0.086323   \n",
              "2726         -0.018339          -0.014973       -0.02594        -0.086323   \n",
              "...                ...                ...            ...              ...   \n",
              "10955        -0.018339          -0.014973       -0.02594        -0.086323   \n",
              "905          -0.018339          -0.014973       -0.02594        -0.086323   \n",
              "5192         -0.018339          -0.014973       -0.02594        -0.086323   \n",
              "12172        -0.018339          -0.014973       -0.02594        -0.086323   \n",
              "235          -0.018339          -0.014973       -0.02594        -0.086323   \n",
              "\n",
              "       region_Zaouit-Ksibat Thrayett  region_Zarzis  region_Zarzouna  \\\n",
              "83                         -0.066256      -0.023678        -0.021177   \n",
              "1917                       -0.066256      -0.023678        -0.021177   \n",
              "7857                       -0.066256      -0.023678        -0.021177   \n",
              "5044                       -0.066256      -0.023678        -0.021177   \n",
              "2726                       -0.066256      -0.023678        -0.021177   \n",
              "...                              ...            ...              ...   \n",
              "10955                      -0.066256      -0.023678        -0.021177   \n",
              "905                        -0.066256      -0.023678        -0.021177   \n",
              "5192                       -0.066256      -0.023678        -0.021177   \n",
              "12172                      -0.066256      -0.023678        -0.021177   \n",
              "235                        -0.066256      -0.023678        -0.021177   \n",
              "\n",
              "       region_Zéramdine  \n",
              "83            -0.010587  \n",
              "1917          -0.010587  \n",
              "7857          -0.010587  \n",
              "5044          -0.010587  \n",
              "2726          -0.010587  \n",
              "...                 ...  \n",
              "10955         -0.010587  \n",
              "905           -0.010587  \n",
              "5192          -0.010587  \n",
              "12172         -0.010587  \n",
              "235           -0.010587  \n",
              "\n",
              "[8923 rows x 292 columns]"
            ],
            "text/html": [
              "\n",
              "  <div id=\"df-42479944-7c76-41b7-9766-c37176bd37ce\">\n",
              "    <div class=\"colab-df-container\">\n",
              "      <div>\n",
              "<style scoped>\n",
              "    .dataframe tbody tr th:only-of-type {\n",
              "        vertical-align: middle;\n",
              "    }\n",
              "\n",
              "    .dataframe tbody tr th {\n",
              "        vertical-align: top;\n",
              "    }\n",
              "\n",
              "    .dataframe thead th {\n",
              "        text-align: right;\n",
              "    }\n",
              "</style>\n",
              "<table border=\"1\" class=\"dataframe\">\n",
              "  <thead>\n",
              "    <tr style=\"text-align: right;\">\n",
              "      <th></th>\n",
              "      <th>room_count</th>\n",
              "      <th>bathroom_count</th>\n",
              "      <th>size</th>\n",
              "      <th>type</th>\n",
              "      <th>category_Appartements</th>\n",
              "      <th>category_Bureaux et Plateaux</th>\n",
              "      <th>category_Colocations</th>\n",
              "      <th>category_Locations de vacances</th>\n",
              "      <th>category_Magasins, Commerces et Locaux industriels</th>\n",
              "      <th>category_Maisons et Villas</th>\n",
              "      <th>...</th>\n",
              "      <th>region_Tozeur</th>\n",
              "      <th>region_Tunis</th>\n",
              "      <th>region_Téboulba</th>\n",
              "      <th>region_Téboursouk</th>\n",
              "      <th>region_Utique</th>\n",
              "      <th>region_Zaghouan</th>\n",
              "      <th>region_Zaouit-Ksibat Thrayett</th>\n",
              "      <th>region_Zarzis</th>\n",
              "      <th>region_Zarzouna</th>\n",
              "      <th>region_Zéramdine</th>\n",
              "    </tr>\n",
              "  </thead>\n",
              "  <tbody>\n",
              "    <tr>\n",
              "      <th>83</th>\n",
              "      <td>-0.594847</td>\n",
              "      <td>-0.415569</td>\n",
              "      <td>-0.526100</td>\n",
              "      <td>-1.240965</td>\n",
              "      <td>-0.762766</td>\n",
              "      <td>-0.195968</td>\n",
              "      <td>13.321411</td>\n",
              "      <td>-0.15142</td>\n",
              "      <td>-0.233407</td>\n",
              "      <td>-0.575323</td>\n",
              "      <td>...</td>\n",
              "      <td>-0.055091</td>\n",
              "      <td>-0.113253</td>\n",
              "      <td>-0.018339</td>\n",
              "      <td>-0.014973</td>\n",
              "      <td>-0.02594</td>\n",
              "      <td>-0.086323</td>\n",
              "      <td>-0.066256</td>\n",
              "      <td>-0.023678</td>\n",
              "      <td>-0.021177</td>\n",
              "      <td>-0.010587</td>\n",
              "    </tr>\n",
              "    <tr>\n",
              "      <th>1917</th>\n",
              "      <td>-0.594847</td>\n",
              "      <td>1.004080</td>\n",
              "      <td>-0.377567</td>\n",
              "      <td>-1.240965</td>\n",
              "      <td>-0.762766</td>\n",
              "      <td>-0.195968</td>\n",
              "      <td>-0.075067</td>\n",
              "      <td>-0.15142</td>\n",
              "      <td>-0.233407</td>\n",
              "      <td>1.738154</td>\n",
              "      <td>...</td>\n",
              "      <td>-0.055091</td>\n",
              "      <td>-0.113253</td>\n",
              "      <td>-0.018339</td>\n",
              "      <td>-0.014973</td>\n",
              "      <td>-0.02594</td>\n",
              "      <td>-0.086323</td>\n",
              "      <td>-0.066256</td>\n",
              "      <td>-0.023678</td>\n",
              "      <td>-0.021177</td>\n",
              "      <td>-0.010587</td>\n",
              "    </tr>\n",
              "    <tr>\n",
              "      <th>7857</th>\n",
              "      <td>0.122329</td>\n",
              "      <td>-0.415569</td>\n",
              "      <td>-0.139914</td>\n",
              "      <td>-1.240965</td>\n",
              "      <td>-0.762766</td>\n",
              "      <td>-0.195968</td>\n",
              "      <td>-0.075067</td>\n",
              "      <td>-0.15142</td>\n",
              "      <td>-0.233407</td>\n",
              "      <td>1.738154</td>\n",
              "      <td>...</td>\n",
              "      <td>-0.055091</td>\n",
              "      <td>-0.113253</td>\n",
              "      <td>-0.018339</td>\n",
              "      <td>-0.014973</td>\n",
              "      <td>-0.02594</td>\n",
              "      <td>-0.086323</td>\n",
              "      <td>-0.066256</td>\n",
              "      <td>-0.023678</td>\n",
              "      <td>-0.021177</td>\n",
              "      <td>-0.010587</td>\n",
              "    </tr>\n",
              "    <tr>\n",
              "      <th>5044</th>\n",
              "      <td>-0.594847</td>\n",
              "      <td>-0.415569</td>\n",
              "      <td>-0.377567</td>\n",
              "      <td>-1.240965</td>\n",
              "      <td>-0.762766</td>\n",
              "      <td>5.102881</td>\n",
              "      <td>-0.075067</td>\n",
              "      <td>-0.15142</td>\n",
              "      <td>-0.233407</td>\n",
              "      <td>-0.575323</td>\n",
              "      <td>...</td>\n",
              "      <td>-0.055091</td>\n",
              "      <td>-0.113253</td>\n",
              "      <td>-0.018339</td>\n",
              "      <td>-0.014973</td>\n",
              "      <td>-0.02594</td>\n",
              "      <td>-0.086323</td>\n",
              "      <td>-0.066256</td>\n",
              "      <td>-0.023678</td>\n",
              "      <td>-0.021177</td>\n",
              "      <td>-0.010587</td>\n",
              "    </tr>\n",
              "    <tr>\n",
              "      <th>2726</th>\n",
              "      <td>0.122329</td>\n",
              "      <td>-0.415569</td>\n",
              "      <td>-0.258740</td>\n",
              "      <td>-1.240965</td>\n",
              "      <td>1.311018</td>\n",
              "      <td>-0.195968</td>\n",
              "      <td>-0.075067</td>\n",
              "      <td>-0.15142</td>\n",
              "      <td>-0.233407</td>\n",
              "      <td>-0.575323</td>\n",
              "      <td>...</td>\n",
              "      <td>-0.055091</td>\n",
              "      <td>-0.113253</td>\n",
              "      <td>-0.018339</td>\n",
              "      <td>-0.014973</td>\n",
              "      <td>-0.02594</td>\n",
              "      <td>-0.086323</td>\n",
              "      <td>-0.066256</td>\n",
              "      <td>-0.023678</td>\n",
              "      <td>-0.021177</td>\n",
              "      <td>-0.010587</td>\n",
              "    </tr>\n",
              "    <tr>\n",
              "      <th>...</th>\n",
              "      <td>...</td>\n",
              "      <td>...</td>\n",
              "      <td>...</td>\n",
              "      <td>...</td>\n",
              "      <td>...</td>\n",
              "      <td>...</td>\n",
              "      <td>...</td>\n",
              "      <td>...</td>\n",
              "      <td>...</td>\n",
              "      <td>...</td>\n",
              "      <td>...</td>\n",
              "      <td>...</td>\n",
              "      <td>...</td>\n",
              "      <td>...</td>\n",
              "      <td>...</td>\n",
              "      <td>...</td>\n",
              "      <td>...</td>\n",
              "      <td>...</td>\n",
              "      <td>...</td>\n",
              "      <td>...</td>\n",
              "      <td>...</td>\n",
              "    </tr>\n",
              "    <tr>\n",
              "      <th>10955</th>\n",
              "      <td>-1.312023</td>\n",
              "      <td>-0.415569</td>\n",
              "      <td>-0.852872</td>\n",
              "      <td>0.805824</td>\n",
              "      <td>-0.762766</td>\n",
              "      <td>-0.195968</td>\n",
              "      <td>-0.075067</td>\n",
              "      <td>-0.15142</td>\n",
              "      <td>4.284361</td>\n",
              "      <td>-0.575323</td>\n",
              "      <td>...</td>\n",
              "      <td>-0.055091</td>\n",
              "      <td>-0.113253</td>\n",
              "      <td>-0.018339</td>\n",
              "      <td>-0.014973</td>\n",
              "      <td>-0.02594</td>\n",
              "      <td>-0.086323</td>\n",
              "      <td>-0.066256</td>\n",
              "      <td>-0.023678</td>\n",
              "      <td>-0.021177</td>\n",
              "      <td>-0.010587</td>\n",
              "    </tr>\n",
              "    <tr>\n",
              "      <th>905</th>\n",
              "      <td>-1.312023</td>\n",
              "      <td>-0.415569</td>\n",
              "      <td>-0.454804</td>\n",
              "      <td>-1.240965</td>\n",
              "      <td>1.311018</td>\n",
              "      <td>-0.195968</td>\n",
              "      <td>-0.075067</td>\n",
              "      <td>-0.15142</td>\n",
              "      <td>-0.233407</td>\n",
              "      <td>-0.575323</td>\n",
              "      <td>...</td>\n",
              "      <td>-0.055091</td>\n",
              "      <td>-0.113253</td>\n",
              "      <td>-0.018339</td>\n",
              "      <td>-0.014973</td>\n",
              "      <td>-0.02594</td>\n",
              "      <td>-0.086323</td>\n",
              "      <td>-0.066256</td>\n",
              "      <td>-0.023678</td>\n",
              "      <td>-0.021177</td>\n",
              "      <td>-0.010587</td>\n",
              "    </tr>\n",
              "    <tr>\n",
              "      <th>5192</th>\n",
              "      <td>-0.594847</td>\n",
              "      <td>-0.415569</td>\n",
              "      <td>-0.585513</td>\n",
              "      <td>-1.240965</td>\n",
              "      <td>-0.762766</td>\n",
              "      <td>5.102881</td>\n",
              "      <td>-0.075067</td>\n",
              "      <td>-0.15142</td>\n",
              "      <td>-0.233407</td>\n",
              "      <td>-0.575323</td>\n",
              "      <td>...</td>\n",
              "      <td>-0.055091</td>\n",
              "      <td>-0.113253</td>\n",
              "      <td>-0.018339</td>\n",
              "      <td>-0.014973</td>\n",
              "      <td>-0.02594</td>\n",
              "      <td>-0.086323</td>\n",
              "      <td>-0.066256</td>\n",
              "      <td>-0.023678</td>\n",
              "      <td>-0.021177</td>\n",
              "      <td>-0.010587</td>\n",
              "    </tr>\n",
              "    <tr>\n",
              "      <th>12172</th>\n",
              "      <td>0.122329</td>\n",
              "      <td>-0.415569</td>\n",
              "      <td>-0.377567</td>\n",
              "      <td>-1.240965</td>\n",
              "      <td>-0.762766</td>\n",
              "      <td>-0.195968</td>\n",
              "      <td>-0.075067</td>\n",
              "      <td>-0.15142</td>\n",
              "      <td>-0.233407</td>\n",
              "      <td>1.738154</td>\n",
              "      <td>...</td>\n",
              "      <td>-0.055091</td>\n",
              "      <td>-0.113253</td>\n",
              "      <td>-0.018339</td>\n",
              "      <td>-0.014973</td>\n",
              "      <td>-0.02594</td>\n",
              "      <td>-0.086323</td>\n",
              "      <td>-0.066256</td>\n",
              "      <td>-0.023678</td>\n",
              "      <td>-0.021177</td>\n",
              "      <td>-0.010587</td>\n",
              "    </tr>\n",
              "    <tr>\n",
              "      <th>235</th>\n",
              "      <td>0.122329</td>\n",
              "      <td>1.004080</td>\n",
              "      <td>-0.229034</td>\n",
              "      <td>0.805824</td>\n",
              "      <td>1.311018</td>\n",
              "      <td>-0.195968</td>\n",
              "      <td>-0.075067</td>\n",
              "      <td>-0.15142</td>\n",
              "      <td>-0.233407</td>\n",
              "      <td>-0.575323</td>\n",
              "      <td>...</td>\n",
              "      <td>-0.055091</td>\n",
              "      <td>-0.113253</td>\n",
              "      <td>-0.018339</td>\n",
              "      <td>-0.014973</td>\n",
              "      <td>-0.02594</td>\n",
              "      <td>-0.086323</td>\n",
              "      <td>-0.066256</td>\n",
              "      <td>-0.023678</td>\n",
              "      <td>-0.021177</td>\n",
              "      <td>-0.010587</td>\n",
              "    </tr>\n",
              "  </tbody>\n",
              "</table>\n",
              "<p>8923 rows × 292 columns</p>\n",
              "</div>\n",
              "      <button class=\"colab-df-convert\" onclick=\"convertToInteractive('df-42479944-7c76-41b7-9766-c37176bd37ce')\"\n",
              "              title=\"Convert this dataframe to an interactive table.\"\n",
              "              style=\"display:none;\">\n",
              "        \n",
              "  <svg xmlns=\"http://www.w3.org/2000/svg\" height=\"24px\"viewBox=\"0 0 24 24\"\n",
              "       width=\"24px\">\n",
              "    <path d=\"M0 0h24v24H0V0z\" fill=\"none\"/>\n",
              "    <path d=\"M18.56 5.44l.94 2.06.94-2.06 2.06-.94-2.06-.94-.94-2.06-.94 2.06-2.06.94zm-11 1L8.5 8.5l.94-2.06 2.06-.94-2.06-.94L8.5 2.5l-.94 2.06-2.06.94zm10 10l.94 2.06.94-2.06 2.06-.94-2.06-.94-.94-2.06-.94 2.06-2.06.94z\"/><path d=\"M17.41 7.96l-1.37-1.37c-.4-.4-.92-.59-1.43-.59-.52 0-1.04.2-1.43.59L10.3 9.45l-7.72 7.72c-.78.78-.78 2.05 0 2.83L4 21.41c.39.39.9.59 1.41.59.51 0 1.02-.2 1.41-.59l7.78-7.78 2.81-2.81c.8-.78.8-2.07 0-2.86zM5.41 20L4 18.59l7.72-7.72 1.47 1.35L5.41 20z\"/>\n",
              "  </svg>\n",
              "      </button>\n",
              "      \n",
              "  <style>\n",
              "    .colab-df-container {\n",
              "      display:flex;\n",
              "      flex-wrap:wrap;\n",
              "      gap: 12px;\n",
              "    }\n",
              "\n",
              "    .colab-df-convert {\n",
              "      background-color: #E8F0FE;\n",
              "      border: none;\n",
              "      border-radius: 50%;\n",
              "      cursor: pointer;\n",
              "      display: none;\n",
              "      fill: #1967D2;\n",
              "      height: 32px;\n",
              "      padding: 0 0 0 0;\n",
              "      width: 32px;\n",
              "    }\n",
              "\n",
              "    .colab-df-convert:hover {\n",
              "      background-color: #E2EBFA;\n",
              "      box-shadow: 0px 1px 2px rgba(60, 64, 67, 0.3), 0px 1px 3px 1px rgba(60, 64, 67, 0.15);\n",
              "      fill: #174EA6;\n",
              "    }\n",
              "\n",
              "    [theme=dark] .colab-df-convert {\n",
              "      background-color: #3B4455;\n",
              "      fill: #D2E3FC;\n",
              "    }\n",
              "\n",
              "    [theme=dark] .colab-df-convert:hover {\n",
              "      background-color: #434B5C;\n",
              "      box-shadow: 0px 1px 3px 1px rgba(0, 0, 0, 0.15);\n",
              "      filter: drop-shadow(0px 1px 2px rgba(0, 0, 0, 0.3));\n",
              "      fill: #FFFFFF;\n",
              "    }\n",
              "  </style>\n",
              "\n",
              "      <script>\n",
              "        const buttonEl =\n",
              "          document.querySelector('#df-42479944-7c76-41b7-9766-c37176bd37ce button.colab-df-convert');\n",
              "        buttonEl.style.display =\n",
              "          google.colab.kernel.accessAllowed ? 'block' : 'none';\n",
              "\n",
              "        async function convertToInteractive(key) {\n",
              "          const element = document.querySelector('#df-42479944-7c76-41b7-9766-c37176bd37ce');\n",
              "          const dataTable =\n",
              "            await google.colab.kernel.invokeFunction('convertToInteractive',\n",
              "                                                     [key], {});\n",
              "          if (!dataTable) return;\n",
              "\n",
              "          const docLinkHtml = 'Like what you see? Visit the ' +\n",
              "            '<a target=\"_blank\" href=https://colab.research.google.com/notebooks/data_table.ipynb>data table notebook</a>'\n",
              "            + ' to learn more about interactive tables.';\n",
              "          element.innerHTML = '';\n",
              "          dataTable['output_type'] = 'display_data';\n",
              "          await google.colab.output.renderOutput(dataTable, element);\n",
              "          const docLink = document.createElement('div');\n",
              "          docLink.innerHTML = docLinkHtml;\n",
              "          element.appendChild(docLink);\n",
              "        }\n",
              "      </script>\n",
              "    </div>\n",
              "  </div>\n",
              "  "
            ]
          },
          "metadata": {},
          "execution_count": 19
        }
      ],
      "source": [
        "X_train"
      ]
    },
    {
      "cell_type": "code",
      "execution_count": null,
      "metadata": {
        "execution": {
          "iopub.execute_input": "2021-03-21T00:13:35.228531Z",
          "iopub.status.busy": "2021-03-21T00:13:35.227834Z",
          "iopub.status.idle": "2021-03-21T00:13:35.234616Z",
          "shell.execute_reply": "2021-03-21T00:13:35.235153Z"
        },
        "papermill": {
          "duration": 0.024048,
          "end_time": "2021-03-21T00:13:35.235342",
          "exception": false,
          "start_time": "2021-03-21T00:13:35.211294",
          "status": "completed"
        },
        "tags": [],
        "colab": {
          "base_uri": "https://localhost:8080/"
        },
        "id": "GW6klh7VaeCA",
        "outputId": "c0296278-3506-4597-870b-e74058df5bf2"
      },
      "outputs": [
        {
          "output_type": "execute_result",
          "data": {
            "text/plain": [
              "83           130.0\n",
              "1917         550.0\n",
              "7857         600.0\n",
              "5044         700.0\n",
              "2726         600.0\n",
              "           ...    \n",
              "10955    8000000.0\n",
              "905          800.0\n",
              "5192         450.0\n",
              "12172        500.0\n",
              "235       210000.0\n",
              "Name: price, Length: 8923, dtype: float64"
            ]
          },
          "metadata": {},
          "execution_count": 15
        }
      ],
      "source": [
        "y_train"
      ]
    },
    {
      "cell_type": "markdown",
      "metadata": {
        "papermill": {
          "duration": 0.013751,
          "end_time": "2021-03-21T00:13:35.262846",
          "exception": false,
          "start_time": "2021-03-21T00:13:35.249095",
          "status": "completed"
        },
        "tags": [],
        "id": "zqyDr8LraeCA"
      },
      "source": [
        "# Training"
      ]
    },
    {
      "cell_type": "code",
      "execution_count": null,
      "metadata": {
        "execution": {
          "iopub.execute_input": "2021-03-21T00:13:35.295262Z",
          "iopub.status.busy": "2021-03-21T00:13:35.294565Z",
          "iopub.status.idle": "2021-03-21T00:15:12.362224Z",
          "shell.execute_reply": "2021-03-21T00:15:12.361563Z"
        },
        "papermill": {
          "duration": 97.084422,
          "end_time": "2021-03-21T00:15:12.362404",
          "exception": false,
          "start_time": "2021-03-21T00:13:35.277982",
          "status": "completed"
        },
        "tags": [],
        "colab": {
          "base_uri": "https://localhost:8080/"
        },
        "id": "12_54jUkaeCA",
        "outputId": "d1c02e39-8ec7-4619-936b-2f98d92e701f"
      },
      "outputs": [
        {
          "output_type": "stream",
          "name": "stdout",
          "text": [
            "                     Linear Regression trained.\n",
            " Linear Regression (L2 Regularization) trained.\n",
            " Linear Regression (L1 Regularization) trained.\n",
            "                   K-Nearest Neighbors trained.\n",
            "                        Neural Network trained.\n",
            "                         Decision Tree trained.\n",
            "                         Random Forest trained.\n",
            "                     Gradient Boosting trained.\n"
          ]
        }
      ],
      "source": [
        "models = {\n",
        "    \"                     Linear Regression\": LinearRegression(),\n",
        "    \" Linear Regression (L2 Regularization)\": Ridge(),\n",
        "    \" Linear Regression (L1 Regularization)\": Lasso(),\n",
        "    \"                   K-Nearest Neighbors\": KNeighborsRegressor(),\n",
        "    \"                        Neural Network\": MLPRegressor(),\n",
        "    \"                         Decision Tree\": DecisionTreeRegressor(),\n",
        "    \"                         Random Forest\": RandomForestRegressor(),\n",
        "    \"                     Gradient Boosting\": GradientBoostingRegressor()\n",
        "}\n",
        "\n",
        "for name, model in models.items():\n",
        "    model.fit(X_train, y_train)\n",
        "    print(name + \" trained.\")"
      ]
    },
    {
      "cell_type": "markdown",
      "metadata": {
        "papermill": {
          "duration": 0.015786,
          "end_time": "2021-03-21T00:15:12.394608",
          "exception": false,
          "start_time": "2021-03-21T00:15:12.378822",
          "status": "completed"
        },
        "tags": [],
        "id": "7-QWr2h4aeCB"
      },
      "source": [
        "# Models evaluation"
      ]
    },
    {
      "cell_type": "code",
      "execution_count": null,
      "metadata": {
        "execution": {
          "iopub.execute_input": "2021-03-21T00:15:12.437902Z",
          "iopub.status.busy": "2021-03-21T00:15:12.437182Z",
          "iopub.status.idle": "2021-03-21T00:15:22.535550Z",
          "shell.execute_reply": "2021-03-21T00:15:22.536115Z"
        },
        "papermill": {
          "duration": 10.125664,
          "end_time": "2021-03-21T00:15:22.536303",
          "exception": false,
          "start_time": "2021-03-21T00:15:12.410639",
          "status": "completed"
        },
        "tags": [],
        "colab": {
          "base_uri": "https://localhost:8080/"
        },
        "id": "ppI6c4UyaeCB",
        "outputId": "545f2494-45a3-4fb6-94e3-cd872e0493b6"
      },
      "outputs": [
        {
          "output_type": "stream",
          "name": "stdout",
          "text": [
            "                     Linear Regression RMSE: 284435794926120173568.00\n",
            " Linear Regression (L2 Regularization) RMSE: 1618496260.65\n",
            " Linear Regression (L1 Regularization) RMSE: 1618365373.29\n",
            "                   K-Nearest Neighbors RMSE: 1641085396.37\n",
            "                        Neural Network RMSE: 1617133672.25\n",
            "                         Decision Tree RMSE: 1619232076.02\n",
            "                         Random Forest RMSE: 1618973920.05\n",
            "                     Gradient Boosting RMSE: 1618062582.56\n"
          ]
        }
      ],
      "source": [
        "for name, model in models.items():\n",
        "    y_pred = model.predict(X_test)\n",
        "    rmse = np.sqrt(np.mean((y_test - y_pred)**2))\n",
        "    print(name + \" RMSE: {:.2f}\".format(rmse))"
      ]
    },
    {
      "cell_type": "code",
      "execution_count": null,
      "metadata": {
        "execution": {
          "iopub.execute_input": "2021-03-21T00:15:22.583961Z",
          "iopub.status.busy": "2021-03-21T00:15:22.582666Z",
          "iopub.status.idle": "2021-03-21T00:15:32.987238Z",
          "shell.execute_reply": "2021-03-21T00:15:32.987708Z"
        },
        "papermill": {
          "duration": 10.434347,
          "end_time": "2021-03-21T00:15:32.987911",
          "exception": false,
          "start_time": "2021-03-21T00:15:22.553564",
          "status": "completed"
        },
        "tags": [],
        "colab": {
          "base_uri": "https://localhost:8080/"
        },
        "id": "_FjV9e5CaeCB",
        "outputId": "d200f4c6-5676-4ee5-ddad-27b1a6c644de"
      },
      "outputs": [
        {
          "output_type": "stream",
          "name": "stdout",
          "text": [
            "                     Linear Regression R^2: -30946436182187188420608.0000\n",
            " Linear Regression (L2 Regularization) R^2: -0.0020\n",
            " Linear Regression (L1 Regularization) R^2: -0.0018\n",
            "                   K-Nearest Neighbors R^2: -0.0302\n",
            "                        Neural Network R^2: -0.0003\n",
            "                         Decision Tree R^2: -0.0029\n",
            "                         Random Forest R^2: -0.0026\n",
            "                     Gradient Boosting R^2: -0.0015\n"
          ]
        }
      ],
      "source": [
        "for name, model in models.items():\n",
        "    r2 = model.score(X_test, y_test)\n",
        "    print(name + \" R^2: {:.4f}\".format(r2))"
      ]
    },
    {
      "cell_type": "code",
      "source": [
        "for name, model in models.items():\n",
        "    print('MAE:', metrics.mean_absolute_error(y_test, y_pred))  \n"
      ],
      "metadata": {
        "colab": {
          "base_uri": "https://localhost:8080/"
        },
        "id": "kr_wxTxA9shu",
        "outputId": "ff6bd75b-87be-4b6e-a228-98a143294ff8"
      },
      "execution_count": null,
      "outputs": [
        {
          "output_type": "stream",
          "name": "stdout",
          "text": [
            "MAE: 33925973.03413082\n",
            "MAE: 33925973.03413082\n",
            "MAE: 33925973.03413082\n",
            "MAE: 33925973.03413082\n",
            "MAE: 33925973.03413082\n",
            "MAE: 33925973.03413082\n",
            "MAE: 33925973.03413082\n",
            "MAE: 33925973.03413082\n"
          ]
        }
      ]
    },
    {
      "cell_type": "code",
      "source": [
        "for name, model in models.items():\n",
        "    print('MSE:', metrics.mean_squared_error(y_test, y_pred)) \n"
      ],
      "metadata": {
        "colab": {
          "base_uri": "https://localhost:8080/"
        },
        "id": "LmPx6zTF-QYw",
        "outputId": "0d2fbf6b-6772-4acb-d204-c88465651911"
      },
      "execution_count": null,
      "outputs": [
        {
          "output_type": "stream",
          "name": "stdout",
          "text": [
            "MSE: 2.6181265210672077e+18\n",
            "MSE: 2.6181265210672077e+18\n",
            "MSE: 2.6181265210672077e+18\n",
            "MSE: 2.6181265210672077e+18\n",
            "MSE: 2.6181265210672077e+18\n",
            "MSE: 2.6181265210672077e+18\n",
            "MSE: 2.6181265210672077e+18\n",
            "MSE: 2.6181265210672077e+18\n"
          ]
        }
      ]
    },
    {
      "cell_type": "markdown",
      "source": [
        "## Conclusion "
      ],
      "metadata": {
        "id": "eCqwh3mX_iwx"
      }
    },
    {
      "cell_type": "markdown",
      "source": [],
      "metadata": {
        "id": "GMYsOp42_wVY"
      }
    },
    {
      "cell_type": "markdown",
      "source": [],
      "metadata": {
        "id": "ZQqSQu9f-Ms_"
      }
    }
  ],
  "metadata": {
    "kernelspec": {
      "display_name": "Python 3",
      "language": "python",
      "name": "python3"
    },
    "language_info": {
      "codemirror_mode": {
        "name": "ipython",
        "version": 3
      },
      "file_extension": ".py",
      "mimetype": "text/x-python",
      "name": "python",
      "nbconvert_exporter": "python",
      "pygments_lexer": "ipython3",
      "version": "3.7.9"
    },
    "papermill": {
      "default_parameters": {},
      "duration": 127.289569,
      "end_time": "2021-03-21T00:15:33.753999",
      "environment_variables": {},
      "exception": null,
      "input_path": "__notebook__.ipynb",
      "output_path": "__notebook__.ipynb",
      "parameters": {},
      "start_time": "2021-03-21T00:13:26.464430",
      "version": "2.2.2"
    },
    "colab": {
      "provenance": [],
      "include_colab_link": true
    }
  },
  "nbformat": 4,
  "nbformat_minor": 0
}